{
 "cells": [
  {
   "cell_type": "code",
   "execution_count": 1,
   "id": "34dbb667",
   "metadata": {},
   "outputs": [],
   "source": [
    "import polars as pl\n",
    "from ollama import Client,AsyncClient\n",
    "from pydantic import BaseModel, Field,conlist\n",
    "from typing import List,Literal\n",
    "import traceback\n",
    "import json\n",
    "import tqdm\n",
    "import asyncio"
   ]
  },
  {
   "cell_type": "code",
   "execution_count": 2,
   "id": "d8dd89cc",
   "metadata": {},
   "outputs": [],
   "source": [
    "path = \"/home/aymen/Desktop/my_work/data_engineer/data/data.parquet\""
   ]
  },
  {
   "cell_type": "code",
   "execution_count": 3,
   "id": "23ad21c2",
   "metadata": {},
   "outputs": [],
   "source": [
    "data = pl.read_parquet(path)\n",
    "data = data.with_columns(\n",
    "    pl.arange(1, data.height + 1).alias(\"item_id\")\n",
    ")\n",
    "category_description = data[[\"item_id\",\"description\"]].to_dict(as_series=False)\n",
    "items = [dict(zip(category_description.keys(), values)) for values in zip(*category_description.values())]"
   ]
  },
  {
   "cell_type": "code",
   "execution_count": 6,
   "id": "cbef046d",
   "metadata": {},
   "outputs": [
    {
     "data": {
      "text/html": [
       "<div><style>\n",
       ".dataframe > thead > tr,\n",
       ".dataframe > tbody > tr {\n",
       "  text-align: right;\n",
       "  white-space: pre-wrap;\n",
       "}\n",
       "</style>\n",
       "<small>shape: (5, 11)</small><table border=\"1\" class=\"dataframe\"><thead><tr><th>product_name</th><th>price</th><th>quantity</th><th>category</th><th>description</th><th>availability</th><th>discount_percentage</th><th>date</th><th>shop_id</th><th>id</th><th>item_id</th></tr><tr><td>str</td><td>f64</td><td>i64</td><td>str</td><td>str</td><td>bool</td><td>f64</td><td>str</td><td>str</td><td>str</td><td>i64</td></tr></thead><tbody><tr><td>&quot;Stuffed Grape Leaves&quot;</td><td>931.11</td><td>1</td><td>&quot;Food - Prepared Foods&quot;</td><td>&quot;Grape leaves stuffed with rice…</td><td>true</td><td>22.87</td><td>&quot;8/7/2024&quot;</td><td>&quot;shop_0&quot;</td><td>&quot;542feb77-abbd-4b0c-b006-0230f6…</td><td>1</td></tr><tr><td>&quot;Bike Repair Tool Kit&quot;</td><td>877.48</td><td>4</td><td>&quot;Outdoor&quot;</td><td>&quot;Essential tools for bike maint…</td><td>false</td><td>31.06</td><td>&quot;2/4/2025&quot;</td><td>&quot;shop_1&quot;</td><td>&quot;81477846-99e2-4831-96eb-c1ea8f…</td><td>2</td></tr><tr><td>&quot;Sooji (Semolina)&quot;</td><td>582.93</td><td>1</td><td>&quot;Food - Baking&quot;</td><td>&quot;Fine semolina flour, perfect f…</td><td>false</td><td>28.96</td><td>&quot;7/12/2025&quot;</td><td>&quot;shop_2&quot;</td><td>&quot;93ba46d8-b268-40f4-ba81-108b4f…</td><td>3</td></tr><tr><td>&quot;Apple Juice&quot;</td><td>870.24</td><td>2</td><td>&quot;Food - Beverages&quot;</td><td>&quot;Refreshing apple juice, 100% j…</td><td>true</td><td>36.97</td><td>&quot;2/16/2025&quot;</td><td>&quot;shop_3&quot;</td><td>&quot;dc449455-0d32-422e-be64-5480d0…</td><td>4</td></tr><tr><td>&quot;Chili Powder&quot;</td><td>58.31</td><td>4</td><td>&quot;Food - Spices&quot;</td><td>&quot;Spicy chili powder to add heat…</td><td>false</td><td>15.58</td><td>&quot;8/12/2024&quot;</td><td>&quot;shop_4&quot;</td><td>&quot;e19934d4-0e3c-401f-8590-f77e9c…</td><td>5</td></tr></tbody></table></div>"
      ],
      "text/plain": [
       "shape: (5, 11)\n",
       "┌──────────────┬────────┬──────────┬─────────────┬───┬───────────┬─────────┬─────────────┬─────────┐\n",
       "│ product_name ┆ price  ┆ quantity ┆ category    ┆ … ┆ date      ┆ shop_id ┆ id          ┆ item_id │\n",
       "│ ---          ┆ ---    ┆ ---      ┆ ---         ┆   ┆ ---       ┆ ---     ┆ ---         ┆ ---     │\n",
       "│ str          ┆ f64    ┆ i64      ┆ str         ┆   ┆ str       ┆ str     ┆ str         ┆ i64     │\n",
       "╞══════════════╪════════╪══════════╪═════════════╪═══╪═══════════╪═════════╪═════════════╪═════════╡\n",
       "│ Stuffed      ┆ 931.11 ┆ 1        ┆ Food -      ┆ … ┆ 8/7/2024  ┆ shop_0  ┆ 542feb77-ab ┆ 1       │\n",
       "│ Grape Leaves ┆        ┆          ┆ Prepared    ┆   ┆           ┆         ┆ bd-4b0c-b00 ┆         │\n",
       "│              ┆        ┆          ┆ Foods       ┆   ┆           ┆         ┆ 6-0230f6…   ┆         │\n",
       "│ Bike Repair  ┆ 877.48 ┆ 4        ┆ Outdoor     ┆ … ┆ 2/4/2025  ┆ shop_1  ┆ 81477846-99 ┆ 2       │\n",
       "│ Tool Kit     ┆        ┆          ┆             ┆   ┆           ┆         ┆ e2-4831-96e ┆         │\n",
       "│              ┆        ┆          ┆             ┆   ┆           ┆         ┆ b-c1ea8f…   ┆         │\n",
       "│ Sooji        ┆ 582.93 ┆ 1        ┆ Food -      ┆ … ┆ 7/12/2025 ┆ shop_2  ┆ 93ba46d8-b2 ┆ 3       │\n",
       "│ (Semolina)   ┆        ┆          ┆ Baking      ┆   ┆           ┆         ┆ 68-40f4-ba8 ┆         │\n",
       "│              ┆        ┆          ┆             ┆   ┆           ┆         ┆ 1-108b4f…   ┆         │\n",
       "│ Apple Juice  ┆ 870.24 ┆ 2        ┆ Food -      ┆ … ┆ 2/16/2025 ┆ shop_3  ┆ dc449455-0d ┆ 4       │\n",
       "│              ┆        ┆          ┆ Beverages   ┆   ┆           ┆         ┆ 32-422e-be6 ┆         │\n",
       "│              ┆        ┆          ┆             ┆   ┆           ┆         ┆ 4-5480d0…   ┆         │\n",
       "│ Chili Powder ┆ 58.31  ┆ 4        ┆ Food -      ┆ … ┆ 8/12/2024 ┆ shop_4  ┆ e19934d4-0e ┆ 5       │\n",
       "│              ┆        ┆          ┆ Spices      ┆   ┆           ┆         ┆ 3c-401f-859 ┆         │\n",
       "│              ┆        ┆          ┆             ┆   ┆           ┆         ┆ 0-f77e9c…   ┆         │\n",
       "└──────────────┴────────┴──────────┴─────────────┴───┴───────────┴─────────┴─────────────┴─────────┘"
      ]
     },
     "execution_count": 6,
     "metadata": {},
     "output_type": "execute_result"
    }
   ],
   "source": [
    "data.head()"
   ]
  },
  {
   "cell_type": "code",
   "execution_count": 5,
   "id": "cf389104",
   "metadata": {},
   "outputs": [
    {
     "data": {
      "text/plain": [
       "Schema([('product_name', String),\n",
       "        ('price', Float64),\n",
       "        ('quantity', Int64),\n",
       "        ('category', String),\n",
       "        ('description', String),\n",
       "        ('availability', Boolean),\n",
       "        ('discount_percentage', Float64),\n",
       "        ('date', String),\n",
       "        ('shop_id', String),\n",
       "        ('id', String),\n",
       "        ('item_id', Int64)])"
      ]
     },
     "execution_count": 5,
     "metadata": {},
     "output_type": "execute_result"
    }
   ],
   "source": [
    "data.schema"
   ]
  },
  {
   "cell_type": "code",
   "execution_count": 7,
   "id": "352dfc39",
   "metadata": {},
   "outputs": [],
   "source": [
    "# constantents\n",
    "\n",
    "BATCH_SIZE=10"
   ]
  },
  {
   "cell_type": "code",
   "execution_count": 8,
   "id": "e390e910",
   "metadata": {},
   "outputs": [],
   "source": [
    "class ItemReview(BaseModel):\n",
    "    item_id: int = Field(description=\"unique identifier that is provided in the input.\",title=\"item_id\")\n",
    "    classification: str = Field(description=\"The classification of the item (e.g.,Food,cloths).\")\n",
    "    review: str = Field(description=\"A brief review of the item.\")\n",
    "\n",
    "class Response(BaseModel):\n",
    "    reviews: List[ItemReview] = Field(min_length=BATCH_SIZE,description=\"A list of classifications and reviews for the provided items.\")"
   ]
  },
  {
   "cell_type": "code",
   "execution_count": 11,
   "id": "624052b7",
   "metadata": {},
   "outputs": [
    {
     "data": {
      "text/plain": [
       "{'$defs': {'ItemReview': {'properties': {'item_id': {'description': 'unique identifier that is provided in the input.',\n",
       "     'title': 'item_id',\n",
       "     'type': 'integer'},\n",
       "    'classification': {'description': 'The classification of the item (e.g.,Food,cloths).',\n",
       "     'title': 'Classification',\n",
       "     'type': 'string'},\n",
       "    'review': {'description': 'A brief review of the item.',\n",
       "     'title': 'Review',\n",
       "     'type': 'string'}},\n",
       "   'required': ['item_id', 'classification', 'review'],\n",
       "   'title': 'ItemReview',\n",
       "   'type': 'object'}},\n",
       " 'properties': {'reviews': {'description': 'A list of classifications and reviews for the provided items.',\n",
       "   'items': {'$ref': '#/$defs/ItemReview'},\n",
       "   'minItems': 10,\n",
       "   'title': 'Reviews',\n",
       "   'type': 'array'}},\n",
       " 'required': ['reviews'],\n",
       " 'title': 'Response',\n",
       " 'type': 'object'}"
      ]
     },
     "execution_count": 11,
     "metadata": {},
     "output_type": "execute_result"
    }
   ],
   "source": [
    "Response.model_json_schema()"
   ]
  },
  {
   "cell_type": "markdown",
   "id": "6fe95614",
   "metadata": {},
   "source": [
    "## Using AsyncIO"
   ]
  },
  {
   "cell_type": "code",
   "execution_count": 6,
   "id": "1e6900e6",
   "metadata": {},
   "outputs": [],
   "source": [
    "client = AsyncClient(\"http://localhost:11434\")"
   ]
  },
  {
   "cell_type": "code",
   "execution_count": 7,
   "id": "8e9b653d",
   "metadata": {},
   "outputs": [],
   "source": [
    "async def Chat(client,context):\n",
    "    # set tempture to 1 \n",
    "    response = await client.chat(\n",
    "        messages=context,\n",
    "        model=\"gemma-small:latest\",\n",
    "        format=Response.model_json_schema(),\n",
    "        keep_alive=20,\n",
    "        stream=False,\n",
    "        options={\n",
    "            \"num_gpu\": 30,\n",
    "            }\n",
    "        )\n",
    "    return response\n",
    "    "
   ]
  },
  {
   "cell_type": "code",
   "execution_count": 8,
   "id": "9cc2cad3",
   "metadata": {},
   "outputs": [],
   "source": [
    "def dict_to_text(items: list[dict]) -> str:\n",
    "    lines = []\n",
    "    for item in items:\n",
    "        line = \"\\n\".join([f\"{key} : {value}\" for key, value in item.items()])\n",
    "        lines.append(line)\n",
    "    return \"\\n\".join(lines)"
   ]
  },
  {
   "cell_type": "code",
   "execution_count": 9,
   "id": "a354c5c5",
   "metadata": {},
   "outputs": [],
   "source": [
    "def creatPrompt(batch_items):\n",
    "    prompt_instruction = \"\"\"\n",
    "                You are a helpful assistant that classifies and reviews items.\n",
    "                \n",
    "                Each item has:\n",
    "                - \"item_id\": unique id for each item\n",
    "                - \"description\": the item's description\n",
    "                \n",
    "                Return a JSON array of objects with the following keys:\n",
    "                - \"item_id\" : same as item_id from input\n",
    "                - \"category\" : classification of item category  \n",
    "                - \"review\" : small review 1-2 phrases max\n",
    "                \"\"\"\n",
    "    \n",
    "    # Build prompt\n",
    "    number_of_items = len(batch_items)\n",
    "    batch_items = dict_to_text(batch_items)\n",
    "    context = [\n",
    "                {'role': 'system',\n",
    "                 'content': f\"{prompt_instruction}\"},\n",
    "                {\"role\": \"user\", \"content\": f\"The following {number_of_items} items need to be classified and reviewed:\\n\\n{batch_items}\"},\n",
    "            ]\n",
    "    return context"
   ]
  },
  {
   "cell_type": "code",
   "execution_count": 10,
   "id": "4123a1e1",
   "metadata": {},
   "outputs": [],
   "source": [
    "def retry(result,BATCH_SIZE,batch_items):\n",
    "    if len(result[\"reviews\"]) != BATCH_SIZE:\n",
    "        print(f\"Expected {len(batch_items)} reviews, but got {len(result['reviews'])} \\nwhat i got : {result} , handeling error\")\n",
    "        \n",
    "        items_ids = [r[\"item_id\"] for r in result[\"reviews\"]] \n",
    "        rest = list(filter(lambda Id : Id not in items_ids , batch_items))\n",
    "    else:\n",
    "        rest = None\n",
    "    return rest"
   ]
  },
  {
   "cell_type": "code",
   "execution_count": 11,
   "id": "d39580f6",
   "metadata": {},
   "outputs": [],
   "source": [
    "from itertools import islice\n",
    "\n",
    "def batch_iter(iterable, BATCH_SIZE):\n",
    "    it = iter(iterable)\n",
    "    while True:\n",
    "        batch = list(islice(it, BATCH_SIZE))\n",
    "        if not batch:\n",
    "            break\n",
    "        yield batch"
   ]
  },
  {
   "cell_type": "code",
   "execution_count": 12,
   "id": "2e173ff2",
   "metadata": {},
   "outputs": [],
   "source": [
    "# use async io to send multiple batches at the same time \n",
    "# process time : it used to be 13 days current time is 7 days to : 46.15% gain of process time\n",
    "async def main():\n",
    "    \n",
    "    all_reviews = []\n",
    "    rest = None\n",
    "    items_iter = batch_iter(items, BATCH_SIZE)  # gives batches of 100 items\n",
    "    \n",
    "    # Initialize progress bar\n",
    "    total_items = len(items)\n",
    "    pbar = tqdm.tqdm(total=total_items, desc=\"Processing items\", unit=\"items\")\n",
    "    processed_count = 0\n",
    "\n",
    "    while True:\n",
    "        if rest:\n",
    "            batches = [rest]\n",
    "            rest = None\n",
    "        else:\n",
    "            batches = [list(next(items_iter, [])) for _ in range(3)]\n",
    "            batches = [b for b in batches if b]  # remove empty\n",
    "\n",
    "        if not batches:\n",
    "            break\n",
    "\n",
    "        contexts = [creatPrompt(b) for b in batches]\n",
    "        responses = await asyncio.gather(*(Chat(client, ctx) for ctx in contexts))\n",
    "\n",
    "        for batch_items, response in zip(batches, responses):\n",
    "            try:\n",
    "                parsed = Response.model_validate_json(response.message.content)\n",
    "                result = json.loads(parsed.model_dump_json())\n",
    "                rest = retry(result, BATCH_SIZE, batch_items)\n",
    "                \n",
    "                # Only count as processed if no retry is needed\n",
    "                if rest is None:\n",
    "                    items_processed = len(batch_items)\n",
    "                    processed_count += items_processed\n",
    "                    pbar.update(items_processed)\n",
    "                    pbar.set_postfix({\"Processed\": processed_count, \"Reviews\": len(all_reviews)})\n",
    "                all_reviews.extend(result[\"reviews\"])\n",
    "                \n",
    "            except json.JSONDecodeError as jd:\n",
    "                print(f\"JSONDecodeError: {jd}\")\n",
    "            except ValueError as ve:\n",
    "                print(f\"ValueError: {ve}\")\n",
    "            except Exception as e:\n",
    "                print(f\"Unexpected error: {e}\")\n",
    "\n",
    "    pbar.close()\n",
    "    return all_reviews"
   ]
  },
  {
   "cell_type": "code",
   "execution_count": 13,
   "id": "b9ceb668",
   "metadata": {},
   "outputs": [
    {
     "name": "stderr",
     "output_type": "stream",
     "text": [
      "Processing items:   0%|          | 80/1000000 [00:39<140:13:53,  1.98items/s, Processed=80, Reviews=81]"
     ]
    },
    {
     "name": "stdout",
     "output_type": "stream",
     "text": [
      "Expected 10 reviews, but got 11 \n",
      "what i got : {'reviews': [{'item_id': 61, 'classification': 'item_id', 'review': 'The compact coffee grinder for fresh ground coffee beans.  This is a great option for coffee lovers who want to elevate their daily routine.'}, {'item_id': 62, 'classification': 'item_id', 'review': 'All-natural skincare set for daily use.  This is a great option for coffee lovers who want to elevate their daily routine.'}, {'item_id': 63, 'classification': 'item_id', 'review': 'Collapsible travel bowl for pets on the go.  This is a great option for coffee lovers who want to elevate their daily routine.'}, {'item_id': 64, 'classification': 'item_id', 'review': 'Crispy and sweet dried apple slices.  A delightful and flavorful snack.'}, {'item_id': 65, 'classification': 'item_id', 'review': 'Dried tomatoes packed with deep flavor for salads and pasta.  A classic and satisfying snack.'}, {'item_id': 66, 'classification': 'item_id', 'review': 'Fun and educational puzzle set for kids.  This is a great option for kids who enjoy puzzle-solving.'}, {'item_id': 67, 'classification': 'item_id', 'review': 'Compact keyboard for tablets and smartphones.  This is a great option for coffee lovers who want to elevate their daily routine.'}, {'item_id': 68, 'classification': 'item_id', 'review': 'Creamy and smooth peanut butter, perfect for sandwiches.  A healthy and satisfying breakfast option.'}, {'item_id': 69, 'classification': 'item_id', 'review': 'Spicy jalapenos stuffed with cheese, ideal for appetizers.  A flavorful and spicy snack.'}, {'item_id': 70, 'classification': 'item_id', 'review': 'High-protein pasta made from black beans, gluten-free.  A versatile and satisfying meal.'}, {'item_id': 71, 'classification': 'item_id', 'review': 'Another option for coffee lovers who want to elevate their daily routine.  A great way to satisfy cravings.'}]} , handeling error\n"
     ]
    },
    {
     "ename": "CancelledError",
     "evalue": "",
     "output_type": "error",
     "traceback": [
      "\u001b[31m---------------------------------------------------------------------------\u001b[39m",
      "\u001b[31mCancelledError\u001b[39m                            Traceback (most recent call last)",
      "\u001b[36mCell\u001b[39m\u001b[36m \u001b[39m\u001b[32mIn[13]\u001b[39m\u001b[32m, line 1\u001b[39m\n\u001b[32m----> \u001b[39m\u001b[32m1\u001b[39m \u001b[38;5;28;01mawait\u001b[39;00m main()\n",
      "\u001b[36mCell\u001b[39m\u001b[36m \u001b[39m\u001b[32mIn[12]\u001b[39m\u001b[32m, line 26\u001b[39m, in \u001b[36mmain\u001b[39m\u001b[34m()\u001b[39m\n\u001b[32m     23\u001b[39m     \u001b[38;5;28;01mbreak\u001b[39;00m\n\u001b[32m     25\u001b[39m contexts = [creatPrompt(b) \u001b[38;5;28;01mfor\u001b[39;00m b \u001b[38;5;129;01min\u001b[39;00m batches]\n\u001b[32m---> \u001b[39m\u001b[32m26\u001b[39m responses = \u001b[38;5;28;01mawait\u001b[39;00m asyncio.gather(*(Chat(client, ctx) \u001b[38;5;28;01mfor\u001b[39;00m ctx \u001b[38;5;129;01min\u001b[39;00m contexts))\n\u001b[32m     28\u001b[39m \u001b[38;5;28;01mfor\u001b[39;00m batch_items, response \u001b[38;5;129;01min\u001b[39;00m \u001b[38;5;28mzip\u001b[39m(batches, responses):\n\u001b[32m     29\u001b[39m     \u001b[38;5;28;01mtry\u001b[39;00m:\n",
      "\u001b[36mCell\u001b[39m\u001b[36m \u001b[39m\u001b[32mIn[7]\u001b[39m\u001b[32m, line 3\u001b[39m, in \u001b[36mChat\u001b[39m\u001b[34m(client, context)\u001b[39m\n\u001b[32m      1\u001b[39m \u001b[38;5;28;01masync\u001b[39;00m \u001b[38;5;28;01mdef\u001b[39;00m\u001b[38;5;250m \u001b[39m\u001b[34mChat\u001b[39m(client,context):\n\u001b[32m      2\u001b[39m     \u001b[38;5;66;03m# set tempture to 1 \u001b[39;00m\n\u001b[32m----> \u001b[39m\u001b[32m3\u001b[39m     response = \u001b[38;5;28;01mawait\u001b[39;00m client.chat(\n\u001b[32m      4\u001b[39m         messages=context,\n\u001b[32m      5\u001b[39m         model=\u001b[33m\"\u001b[39m\u001b[33mgemma-small:latest\u001b[39m\u001b[33m\"\u001b[39m,\n\u001b[32m      6\u001b[39m         \u001b[38;5;28mformat\u001b[39m=Response.model_json_schema(),\n\u001b[32m      7\u001b[39m         keep_alive=\u001b[32m20\u001b[39m,\n\u001b[32m      8\u001b[39m         stream=\u001b[38;5;28;01mFalse\u001b[39;00m,\n\u001b[32m      9\u001b[39m         options={\n\u001b[32m     10\u001b[39m             \u001b[33m\"\u001b[39m\u001b[33mnum_gpu\u001b[39m\u001b[33m\"\u001b[39m: \u001b[32m30\u001b[39m,\n\u001b[32m     11\u001b[39m             }\n\u001b[32m     12\u001b[39m         )\n\u001b[32m     13\u001b[39m     \u001b[38;5;28;01mreturn\u001b[39;00m response\n",
      "\u001b[36mFile \u001b[39m\u001b[32m~/Desktop/my_work/data_engineer/.venv/lib/python3.12/site-packages/ollama/_client.py:854\u001b[39m, in \u001b[36mAsyncClient.chat\u001b[39m\u001b[34m(self, model, messages, tools, stream, think, format, options, keep_alive)\u001b[39m\n\u001b[32m    808\u001b[39m \u001b[38;5;28;01masync\u001b[39;00m \u001b[38;5;28;01mdef\u001b[39;00m\u001b[38;5;250m \u001b[39m\u001b[34mchat\u001b[39m(\n\u001b[32m    809\u001b[39m   \u001b[38;5;28mself\u001b[39m,\n\u001b[32m    810\u001b[39m   model: \u001b[38;5;28mstr\u001b[39m = \u001b[33m'\u001b[39m\u001b[33m'\u001b[39m,\n\u001b[32m   (...)\u001b[39m\u001b[32m    818\u001b[39m   keep_alive: Optional[Union[\u001b[38;5;28mfloat\u001b[39m, \u001b[38;5;28mstr\u001b[39m]] = \u001b[38;5;28;01mNone\u001b[39;00m,\n\u001b[32m    819\u001b[39m ) -> Union[ChatResponse, AsyncIterator[ChatResponse]]:\n\u001b[32m    820\u001b[39m \u001b[38;5;250m  \u001b[39m\u001b[33;03m\"\"\"\u001b[39;00m\n\u001b[32m    821\u001b[39m \u001b[33;03m  Create a chat response using the requested model.\u001b[39;00m\n\u001b[32m    822\u001b[39m \n\u001b[32m   (...)\u001b[39m\u001b[32m    851\u001b[39m \u001b[33;03m  Returns `ChatResponse` if `stream` is `False`, otherwise returns an asynchronous `ChatResponse` generator.\u001b[39;00m\n\u001b[32m    852\u001b[39m \u001b[33;03m  \"\"\"\u001b[39;00m\n\u001b[32m--> \u001b[39m\u001b[32m854\u001b[39m   \u001b[38;5;28;01mreturn\u001b[39;00m \u001b[38;5;28;01mawait\u001b[39;00m \u001b[38;5;28mself\u001b[39m._request(\n\u001b[32m    855\u001b[39m     ChatResponse,\n\u001b[32m    856\u001b[39m     \u001b[33m'\u001b[39m\u001b[33mPOST\u001b[39m\u001b[33m'\u001b[39m,\n\u001b[32m    857\u001b[39m     \u001b[33m'\u001b[39m\u001b[33m/api/chat\u001b[39m\u001b[33m'\u001b[39m,\n\u001b[32m    858\u001b[39m     json=ChatRequest(\n\u001b[32m    859\u001b[39m       model=model,\n\u001b[32m    860\u001b[39m       messages=\u001b[38;5;28mlist\u001b[39m(_copy_messages(messages)),\n\u001b[32m    861\u001b[39m       tools=\u001b[38;5;28mlist\u001b[39m(_copy_tools(tools)),\n\u001b[32m    862\u001b[39m       stream=stream,\n\u001b[32m    863\u001b[39m       think=think,\n\u001b[32m    864\u001b[39m       \u001b[38;5;28mformat\u001b[39m=\u001b[38;5;28mformat\u001b[39m,\n\u001b[32m    865\u001b[39m       options=options,\n\u001b[32m    866\u001b[39m       keep_alive=keep_alive,\n\u001b[32m    867\u001b[39m     ).model_dump(exclude_none=\u001b[38;5;28;01mTrue\u001b[39;00m),\n\u001b[32m    868\u001b[39m     stream=stream,\n\u001b[32m    869\u001b[39m   )\n",
      "\u001b[36mFile \u001b[39m\u001b[32m~/Desktop/my_work/data_engineer/.venv/lib/python3.12/site-packages/ollama/_client.py:692\u001b[39m, in \u001b[36mAsyncClient._request\u001b[39m\u001b[34m(self, cls, stream, *args, **kwargs)\u001b[39m\n\u001b[32m    688\u001b[39m         \u001b[38;5;28;01myield\u001b[39;00m \u001b[38;5;28mcls\u001b[39m(**part)\n\u001b[32m    690\u001b[39m   \u001b[38;5;28;01mreturn\u001b[39;00m inner()\n\u001b[32m--> \u001b[39m\u001b[32m692\u001b[39m \u001b[38;5;28;01mreturn\u001b[39;00m \u001b[38;5;28mcls\u001b[39m(**(\u001b[38;5;28;01mawait\u001b[39;00m \u001b[38;5;28mself\u001b[39m._request_raw(*args, **kwargs)).json())\n",
      "\u001b[36mFile \u001b[39m\u001b[32m~/Desktop/my_work/data_engineer/.venv/lib/python3.12/site-packages/ollama/_client.py:632\u001b[39m, in \u001b[36mAsyncClient._request_raw\u001b[39m\u001b[34m(self, *args, **kwargs)\u001b[39m\n\u001b[32m    630\u001b[39m \u001b[38;5;28;01masync\u001b[39;00m \u001b[38;5;28;01mdef\u001b[39;00m\u001b[38;5;250m \u001b[39m\u001b[34m_request_raw\u001b[39m(\u001b[38;5;28mself\u001b[39m, *args, **kwargs):\n\u001b[32m    631\u001b[39m   \u001b[38;5;28;01mtry\u001b[39;00m:\n\u001b[32m--> \u001b[39m\u001b[32m632\u001b[39m     r = \u001b[38;5;28;01mawait\u001b[39;00m \u001b[38;5;28mself\u001b[39m._client.request(*args, **kwargs)\n\u001b[32m    633\u001b[39m     r.raise_for_status()\n\u001b[32m    634\u001b[39m     \u001b[38;5;28;01mreturn\u001b[39;00m r\n",
      "\u001b[36mFile \u001b[39m\u001b[32m~/Desktop/my_work/data_engineer/.venv/lib/python3.12/site-packages/httpx/_client.py:1540\u001b[39m, in \u001b[36mAsyncClient.request\u001b[39m\u001b[34m(self, method, url, content, data, files, json, params, headers, cookies, auth, follow_redirects, timeout, extensions)\u001b[39m\n\u001b[32m   1525\u001b[39m     warnings.warn(message, \u001b[38;5;167;01mDeprecationWarning\u001b[39;00m, stacklevel=\u001b[32m2\u001b[39m)\n\u001b[32m   1527\u001b[39m request = \u001b[38;5;28mself\u001b[39m.build_request(\n\u001b[32m   1528\u001b[39m     method=method,\n\u001b[32m   1529\u001b[39m     url=url,\n\u001b[32m   (...)\u001b[39m\u001b[32m   1538\u001b[39m     extensions=extensions,\n\u001b[32m   1539\u001b[39m )\n\u001b[32m-> \u001b[39m\u001b[32m1540\u001b[39m \u001b[38;5;28;01mreturn\u001b[39;00m \u001b[38;5;28;01mawait\u001b[39;00m \u001b[38;5;28mself\u001b[39m.send(request, auth=auth, follow_redirects=follow_redirects)\n",
      "\u001b[36mFile \u001b[39m\u001b[32m~/Desktop/my_work/data_engineer/.venv/lib/python3.12/site-packages/httpx/_client.py:1629\u001b[39m, in \u001b[36mAsyncClient.send\u001b[39m\u001b[34m(self, request, stream, auth, follow_redirects)\u001b[39m\n\u001b[32m   1625\u001b[39m \u001b[38;5;28mself\u001b[39m._set_timeout(request)\n\u001b[32m   1627\u001b[39m auth = \u001b[38;5;28mself\u001b[39m._build_request_auth(request, auth)\n\u001b[32m-> \u001b[39m\u001b[32m1629\u001b[39m response = \u001b[38;5;28;01mawait\u001b[39;00m \u001b[38;5;28mself\u001b[39m._send_handling_auth(\n\u001b[32m   1630\u001b[39m     request,\n\u001b[32m   1631\u001b[39m     auth=auth,\n\u001b[32m   1632\u001b[39m     follow_redirects=follow_redirects,\n\u001b[32m   1633\u001b[39m     history=[],\n\u001b[32m   1634\u001b[39m )\n\u001b[32m   1635\u001b[39m \u001b[38;5;28;01mtry\u001b[39;00m:\n\u001b[32m   1636\u001b[39m     \u001b[38;5;28;01mif\u001b[39;00m \u001b[38;5;129;01mnot\u001b[39;00m stream:\n",
      "\u001b[36mFile \u001b[39m\u001b[32m~/Desktop/my_work/data_engineer/.venv/lib/python3.12/site-packages/httpx/_client.py:1657\u001b[39m, in \u001b[36mAsyncClient._send_handling_auth\u001b[39m\u001b[34m(self, request, auth, follow_redirects, history)\u001b[39m\n\u001b[32m   1654\u001b[39m request = \u001b[38;5;28;01mawait\u001b[39;00m auth_flow.\u001b[34m__anext__\u001b[39m()\n\u001b[32m   1656\u001b[39m \u001b[38;5;28;01mwhile\u001b[39;00m \u001b[38;5;28;01mTrue\u001b[39;00m:\n\u001b[32m-> \u001b[39m\u001b[32m1657\u001b[39m     response = \u001b[38;5;28;01mawait\u001b[39;00m \u001b[38;5;28mself\u001b[39m._send_handling_redirects(\n\u001b[32m   1658\u001b[39m         request,\n\u001b[32m   1659\u001b[39m         follow_redirects=follow_redirects,\n\u001b[32m   1660\u001b[39m         history=history,\n\u001b[32m   1661\u001b[39m     )\n\u001b[32m   1662\u001b[39m     \u001b[38;5;28;01mtry\u001b[39;00m:\n\u001b[32m   1663\u001b[39m         \u001b[38;5;28;01mtry\u001b[39;00m:\n",
      "\u001b[36mFile \u001b[39m\u001b[32m~/Desktop/my_work/data_engineer/.venv/lib/python3.12/site-packages/httpx/_client.py:1694\u001b[39m, in \u001b[36mAsyncClient._send_handling_redirects\u001b[39m\u001b[34m(self, request, follow_redirects, history)\u001b[39m\n\u001b[32m   1691\u001b[39m \u001b[38;5;28;01mfor\u001b[39;00m hook \u001b[38;5;129;01min\u001b[39;00m \u001b[38;5;28mself\u001b[39m._event_hooks[\u001b[33m\"\u001b[39m\u001b[33mrequest\u001b[39m\u001b[33m\"\u001b[39m]:\n\u001b[32m   1692\u001b[39m     \u001b[38;5;28;01mawait\u001b[39;00m hook(request)\n\u001b[32m-> \u001b[39m\u001b[32m1694\u001b[39m response = \u001b[38;5;28;01mawait\u001b[39;00m \u001b[38;5;28mself\u001b[39m._send_single_request(request)\n\u001b[32m   1695\u001b[39m \u001b[38;5;28;01mtry\u001b[39;00m:\n\u001b[32m   1696\u001b[39m     \u001b[38;5;28;01mfor\u001b[39;00m hook \u001b[38;5;129;01min\u001b[39;00m \u001b[38;5;28mself\u001b[39m._event_hooks[\u001b[33m\"\u001b[39m\u001b[33mresponse\u001b[39m\u001b[33m\"\u001b[39m]:\n",
      "\u001b[36mFile \u001b[39m\u001b[32m~/Desktop/my_work/data_engineer/.venv/lib/python3.12/site-packages/httpx/_client.py:1730\u001b[39m, in \u001b[36mAsyncClient._send_single_request\u001b[39m\u001b[34m(self, request)\u001b[39m\n\u001b[32m   1725\u001b[39m     \u001b[38;5;28;01mraise\u001b[39;00m \u001b[38;5;167;01mRuntimeError\u001b[39;00m(\n\u001b[32m   1726\u001b[39m         \u001b[33m\"\u001b[39m\u001b[33mAttempted to send an sync request with an AsyncClient instance.\u001b[39m\u001b[33m\"\u001b[39m\n\u001b[32m   1727\u001b[39m     )\n\u001b[32m   1729\u001b[39m \u001b[38;5;28;01mwith\u001b[39;00m request_context(request=request):\n\u001b[32m-> \u001b[39m\u001b[32m1730\u001b[39m     response = \u001b[38;5;28;01mawait\u001b[39;00m transport.handle_async_request(request)\n\u001b[32m   1732\u001b[39m \u001b[38;5;28;01massert\u001b[39;00m \u001b[38;5;28misinstance\u001b[39m(response.stream, AsyncByteStream)\n\u001b[32m   1733\u001b[39m response.request = request\n",
      "\u001b[36mFile \u001b[39m\u001b[32m~/Desktop/my_work/data_engineer/.venv/lib/python3.12/site-packages/httpx/_transports/default.py:394\u001b[39m, in \u001b[36mAsyncHTTPTransport.handle_async_request\u001b[39m\u001b[34m(self, request)\u001b[39m\n\u001b[32m    381\u001b[39m req = httpcore.Request(\n\u001b[32m    382\u001b[39m     method=request.method,\n\u001b[32m    383\u001b[39m     url=httpcore.URL(\n\u001b[32m   (...)\u001b[39m\u001b[32m    391\u001b[39m     extensions=request.extensions,\n\u001b[32m    392\u001b[39m )\n\u001b[32m    393\u001b[39m \u001b[38;5;28;01mwith\u001b[39;00m map_httpcore_exceptions():\n\u001b[32m--> \u001b[39m\u001b[32m394\u001b[39m     resp = \u001b[38;5;28;01mawait\u001b[39;00m \u001b[38;5;28mself\u001b[39m._pool.handle_async_request(req)\n\u001b[32m    396\u001b[39m \u001b[38;5;28;01massert\u001b[39;00m \u001b[38;5;28misinstance\u001b[39m(resp.stream, typing.AsyncIterable)\n\u001b[32m    398\u001b[39m \u001b[38;5;28;01mreturn\u001b[39;00m Response(\n\u001b[32m    399\u001b[39m     status_code=resp.status,\n\u001b[32m    400\u001b[39m     headers=resp.headers,\n\u001b[32m    401\u001b[39m     stream=AsyncResponseStream(resp.stream),\n\u001b[32m    402\u001b[39m     extensions=resp.extensions,\n\u001b[32m    403\u001b[39m )\n",
      "\u001b[36mFile \u001b[39m\u001b[32m~/Desktop/my_work/data_engineer/.venv/lib/python3.12/site-packages/httpcore/_async/connection_pool.py:256\u001b[39m, in \u001b[36mAsyncConnectionPool.handle_async_request\u001b[39m\u001b[34m(self, request)\u001b[39m\n\u001b[32m    253\u001b[39m         closing = \u001b[38;5;28mself\u001b[39m._assign_requests_to_connections()\n\u001b[32m    255\u001b[39m     \u001b[38;5;28;01mawait\u001b[39;00m \u001b[38;5;28mself\u001b[39m._close_connections(closing)\n\u001b[32m--> \u001b[39m\u001b[32m256\u001b[39m     \u001b[38;5;28;01mraise\u001b[39;00m exc \u001b[38;5;28;01mfrom\u001b[39;00m\u001b[38;5;250m \u001b[39m\u001b[38;5;28;01mNone\u001b[39;00m\n\u001b[32m    258\u001b[39m \u001b[38;5;66;03m# Return the response. Note that in this case we still have to manage\u001b[39;00m\n\u001b[32m    259\u001b[39m \u001b[38;5;66;03m# the point at which the response is closed.\u001b[39;00m\n\u001b[32m    260\u001b[39m \u001b[38;5;28;01massert\u001b[39;00m \u001b[38;5;28misinstance\u001b[39m(response.stream, typing.AsyncIterable)\n",
      "\u001b[36mFile \u001b[39m\u001b[32m~/Desktop/my_work/data_engineer/.venv/lib/python3.12/site-packages/httpcore/_async/connection_pool.py:236\u001b[39m, in \u001b[36mAsyncConnectionPool.handle_async_request\u001b[39m\u001b[34m(self, request)\u001b[39m\n\u001b[32m    232\u001b[39m connection = \u001b[38;5;28;01mawait\u001b[39;00m pool_request.wait_for_connection(timeout=timeout)\n\u001b[32m    234\u001b[39m \u001b[38;5;28;01mtry\u001b[39;00m:\n\u001b[32m    235\u001b[39m     \u001b[38;5;66;03m# Send the request on the assigned connection.\u001b[39;00m\n\u001b[32m--> \u001b[39m\u001b[32m236\u001b[39m     response = \u001b[38;5;28;01mawait\u001b[39;00m connection.handle_async_request(\n\u001b[32m    237\u001b[39m         pool_request.request\n\u001b[32m    238\u001b[39m     )\n\u001b[32m    239\u001b[39m \u001b[38;5;28;01mexcept\u001b[39;00m ConnectionNotAvailable:\n\u001b[32m    240\u001b[39m     \u001b[38;5;66;03m# In some cases a connection may initially be available to\u001b[39;00m\n\u001b[32m    241\u001b[39m     \u001b[38;5;66;03m# handle a request, but then become unavailable.\u001b[39;00m\n\u001b[32m    242\u001b[39m     \u001b[38;5;66;03m#\u001b[39;00m\n\u001b[32m    243\u001b[39m     \u001b[38;5;66;03m# In this case we clear the connection and try again.\u001b[39;00m\n\u001b[32m    244\u001b[39m     pool_request.clear_connection()\n",
      "\u001b[36mFile \u001b[39m\u001b[32m~/Desktop/my_work/data_engineer/.venv/lib/python3.12/site-packages/httpcore/_async/connection.py:103\u001b[39m, in \u001b[36mAsyncHTTPConnection.handle_async_request\u001b[39m\u001b[34m(self, request)\u001b[39m\n\u001b[32m    100\u001b[39m     \u001b[38;5;28mself\u001b[39m._connect_failed = \u001b[38;5;28;01mTrue\u001b[39;00m\n\u001b[32m    101\u001b[39m     \u001b[38;5;28;01mraise\u001b[39;00m exc\n\u001b[32m--> \u001b[39m\u001b[32m103\u001b[39m \u001b[38;5;28;01mreturn\u001b[39;00m \u001b[38;5;28;01mawait\u001b[39;00m \u001b[38;5;28mself\u001b[39m._connection.handle_async_request(request)\n",
      "\u001b[36mFile \u001b[39m\u001b[32m~/Desktop/my_work/data_engineer/.venv/lib/python3.12/site-packages/httpcore/_async/http11.py:136\u001b[39m, in \u001b[36mAsyncHTTP11Connection.handle_async_request\u001b[39m\u001b[34m(self, request)\u001b[39m\n\u001b[32m    134\u001b[39m     \u001b[38;5;28;01masync\u001b[39;00m \u001b[38;5;28;01mwith\u001b[39;00m Trace(\u001b[33m\"\u001b[39m\u001b[33mresponse_closed\u001b[39m\u001b[33m\"\u001b[39m, logger, request) \u001b[38;5;28;01mas\u001b[39;00m trace:\n\u001b[32m    135\u001b[39m         \u001b[38;5;28;01mawait\u001b[39;00m \u001b[38;5;28mself\u001b[39m._response_closed()\n\u001b[32m--> \u001b[39m\u001b[32m136\u001b[39m \u001b[38;5;28;01mraise\u001b[39;00m exc\n",
      "\u001b[36mFile \u001b[39m\u001b[32m~/Desktop/my_work/data_engineer/.venv/lib/python3.12/site-packages/httpcore/_async/http11.py:106\u001b[39m, in \u001b[36mAsyncHTTP11Connection.handle_async_request\u001b[39m\u001b[34m(self, request)\u001b[39m\n\u001b[32m     95\u001b[39m     \u001b[38;5;28;01mpass\u001b[39;00m\n\u001b[32m     97\u001b[39m \u001b[38;5;28;01masync\u001b[39;00m \u001b[38;5;28;01mwith\u001b[39;00m Trace(\n\u001b[32m     98\u001b[39m     \u001b[33m\"\u001b[39m\u001b[33mreceive_response_headers\u001b[39m\u001b[33m\"\u001b[39m, logger, request, kwargs\n\u001b[32m     99\u001b[39m ) \u001b[38;5;28;01mas\u001b[39;00m trace:\n\u001b[32m    100\u001b[39m     (\n\u001b[32m    101\u001b[39m         http_version,\n\u001b[32m    102\u001b[39m         status,\n\u001b[32m    103\u001b[39m         reason_phrase,\n\u001b[32m    104\u001b[39m         headers,\n\u001b[32m    105\u001b[39m         trailing_data,\n\u001b[32m--> \u001b[39m\u001b[32m106\u001b[39m     ) = \u001b[38;5;28;01mawait\u001b[39;00m \u001b[38;5;28mself\u001b[39m._receive_response_headers(**kwargs)\n\u001b[32m    107\u001b[39m     trace.return_value = (\n\u001b[32m    108\u001b[39m         http_version,\n\u001b[32m    109\u001b[39m         status,\n\u001b[32m    110\u001b[39m         reason_phrase,\n\u001b[32m    111\u001b[39m         headers,\n\u001b[32m    112\u001b[39m     )\n\u001b[32m    114\u001b[39m network_stream = \u001b[38;5;28mself\u001b[39m._network_stream\n",
      "\u001b[36mFile \u001b[39m\u001b[32m~/Desktop/my_work/data_engineer/.venv/lib/python3.12/site-packages/httpcore/_async/http11.py:177\u001b[39m, in \u001b[36mAsyncHTTP11Connection._receive_response_headers\u001b[39m\u001b[34m(self, request)\u001b[39m\n\u001b[32m    174\u001b[39m timeout = timeouts.get(\u001b[33m\"\u001b[39m\u001b[33mread\u001b[39m\u001b[33m\"\u001b[39m, \u001b[38;5;28;01mNone\u001b[39;00m)\n\u001b[32m    176\u001b[39m \u001b[38;5;28;01mwhile\u001b[39;00m \u001b[38;5;28;01mTrue\u001b[39;00m:\n\u001b[32m--> \u001b[39m\u001b[32m177\u001b[39m     event = \u001b[38;5;28;01mawait\u001b[39;00m \u001b[38;5;28mself\u001b[39m._receive_event(timeout=timeout)\n\u001b[32m    178\u001b[39m     \u001b[38;5;28;01mif\u001b[39;00m \u001b[38;5;28misinstance\u001b[39m(event, h11.Response):\n\u001b[32m    179\u001b[39m         \u001b[38;5;28;01mbreak\u001b[39;00m\n",
      "\u001b[36mFile \u001b[39m\u001b[32m~/Desktop/my_work/data_engineer/.venv/lib/python3.12/site-packages/httpcore/_async/http11.py:217\u001b[39m, in \u001b[36mAsyncHTTP11Connection._receive_event\u001b[39m\u001b[34m(self, timeout)\u001b[39m\n\u001b[32m    214\u001b[39m     event = \u001b[38;5;28mself\u001b[39m._h11_state.next_event()\n\u001b[32m    216\u001b[39m \u001b[38;5;28;01mif\u001b[39;00m event \u001b[38;5;129;01mis\u001b[39;00m h11.NEED_DATA:\n\u001b[32m--> \u001b[39m\u001b[32m217\u001b[39m     data = \u001b[38;5;28;01mawait\u001b[39;00m \u001b[38;5;28mself\u001b[39m._network_stream.read(\n\u001b[32m    218\u001b[39m         \u001b[38;5;28mself\u001b[39m.READ_NUM_BYTES, timeout=timeout\n\u001b[32m    219\u001b[39m     )\n\u001b[32m    221\u001b[39m     \u001b[38;5;66;03m# If we feed this case through h11 we'll raise an exception like:\u001b[39;00m\n\u001b[32m    222\u001b[39m     \u001b[38;5;66;03m#\u001b[39;00m\n\u001b[32m    223\u001b[39m     \u001b[38;5;66;03m#     httpcore.RemoteProtocolError: can't handle event type\u001b[39;00m\n\u001b[32m   (...)\u001b[39m\u001b[32m    227\u001b[39m     \u001b[38;5;66;03m# perspective. Instead we handle this case distinctly and treat\u001b[39;00m\n\u001b[32m    228\u001b[39m     \u001b[38;5;66;03m# it as a ConnectError.\u001b[39;00m\n\u001b[32m    229\u001b[39m     \u001b[38;5;28;01mif\u001b[39;00m data == \u001b[33mb\u001b[39m\u001b[33m\"\u001b[39m\u001b[33m\"\u001b[39m \u001b[38;5;129;01mand\u001b[39;00m \u001b[38;5;28mself\u001b[39m._h11_state.their_state == h11.SEND_RESPONSE:\n",
      "\u001b[36mFile \u001b[39m\u001b[32m~/Desktop/my_work/data_engineer/.venv/lib/python3.12/site-packages/httpcore/_backends/anyio.py:35\u001b[39m, in \u001b[36mAnyIOStream.read\u001b[39m\u001b[34m(self, max_bytes, timeout)\u001b[39m\n\u001b[32m     33\u001b[39m \u001b[38;5;28;01mwith\u001b[39;00m anyio.fail_after(timeout):\n\u001b[32m     34\u001b[39m     \u001b[38;5;28;01mtry\u001b[39;00m:\n\u001b[32m---> \u001b[39m\u001b[32m35\u001b[39m         \u001b[38;5;28;01mreturn\u001b[39;00m \u001b[38;5;28;01mawait\u001b[39;00m \u001b[38;5;28mself\u001b[39m._stream.receive(max_bytes=max_bytes)\n\u001b[32m     36\u001b[39m     \u001b[38;5;28;01mexcept\u001b[39;00m anyio.EndOfStream:  \u001b[38;5;66;03m# pragma: nocover\u001b[39;00m\n\u001b[32m     37\u001b[39m         \u001b[38;5;28;01mreturn\u001b[39;00m \u001b[33mb\u001b[39m\u001b[33m\"\u001b[39m\u001b[33m\"\u001b[39m\n",
      "\u001b[36mFile \u001b[39m\u001b[32m~/Desktop/my_work/data_engineer/.venv/lib/python3.12/site-packages/anyio/_backends/_asyncio.py:1254\u001b[39m, in \u001b[36mSocketStream.receive\u001b[39m\u001b[34m(self, max_bytes)\u001b[39m\n\u001b[32m   1248\u001b[39m \u001b[38;5;28;01mif\u001b[39;00m (\n\u001b[32m   1249\u001b[39m     \u001b[38;5;129;01mnot\u001b[39;00m \u001b[38;5;28mself\u001b[39m._protocol.read_event.is_set()\n\u001b[32m   1250\u001b[39m     \u001b[38;5;129;01mand\u001b[39;00m \u001b[38;5;129;01mnot\u001b[39;00m \u001b[38;5;28mself\u001b[39m._transport.is_closing()\n\u001b[32m   1251\u001b[39m     \u001b[38;5;129;01mand\u001b[39;00m \u001b[38;5;129;01mnot\u001b[39;00m \u001b[38;5;28mself\u001b[39m._protocol.is_at_eof\n\u001b[32m   1252\u001b[39m ):\n\u001b[32m   1253\u001b[39m     \u001b[38;5;28mself\u001b[39m._transport.resume_reading()\n\u001b[32m-> \u001b[39m\u001b[32m1254\u001b[39m     \u001b[38;5;28;01mawait\u001b[39;00m \u001b[38;5;28mself\u001b[39m._protocol.read_event.wait()\n\u001b[32m   1255\u001b[39m     \u001b[38;5;28mself\u001b[39m._transport.pause_reading()\n\u001b[32m   1256\u001b[39m \u001b[38;5;28;01melse\u001b[39;00m:\n",
      "\u001b[36mFile \u001b[39m\u001b[32m/usr/lib/python3.12/asyncio/locks.py:212\u001b[39m, in \u001b[36mEvent.wait\u001b[39m\u001b[34m(self)\u001b[39m\n\u001b[32m    210\u001b[39m \u001b[38;5;28mself\u001b[39m._waiters.append(fut)\n\u001b[32m    211\u001b[39m \u001b[38;5;28;01mtry\u001b[39;00m:\n\u001b[32m--> \u001b[39m\u001b[32m212\u001b[39m     \u001b[38;5;28;01mawait\u001b[39;00m fut\n\u001b[32m    213\u001b[39m     \u001b[38;5;28;01mreturn\u001b[39;00m \u001b[38;5;28;01mTrue\u001b[39;00m\n\u001b[32m    214\u001b[39m \u001b[38;5;28;01mfinally\u001b[39;00m:\n",
      "\u001b[31mCancelledError\u001b[39m: "
     ]
    }
   ],
   "source": [
    "await main()"
   ]
  },
  {
   "cell_type": "code",
   "execution_count": null,
   "id": "3b024dcb",
   "metadata": {},
   "outputs": [],
   "source": [
    "# switch to llama cpp\n",
    "# write the api for it or use exisiting one \"https://llama-cpp-python.readthedocs.io/en/latest/api-reference/\"\n",
    "# make with python first than if it get  you where you want fine else\n",
    "# switch to go language for go check this out \"https://github.com/go-skynet/go-llama.cpp\""
   ]
  }
 ],
 "metadata": {
  "kernelspec": {
   "display_name": ".venv",
   "language": "python",
   "name": "python3"
  },
  "language_info": {
   "codemirror_mode": {
    "name": "ipython",
    "version": 3
   },
   "file_extension": ".py",
   "mimetype": "text/x-python",
   "name": "python",
   "nbconvert_exporter": "python",
   "pygments_lexer": "ipython3",
   "version": "3.12.3"
  }
 },
 "nbformat": 4,
 "nbformat_minor": 5
}
